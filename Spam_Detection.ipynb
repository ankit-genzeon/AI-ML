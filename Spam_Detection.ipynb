{
  "nbformat": 4,
  "nbformat_minor": 0,
  "metadata": {
    "colab": {
      "provenance": [],
      "mount_file_id": "1_6eSp9mTLnjoIya_t2yS1xeR6Btm-3n_",
      "authorship_tag": "ABX9TyN0xnMTEysyI+Me56ic0cJD",
      "include_colab_link": true
    },
    "kernelspec": {
      "name": "python3",
      "display_name": "Python 3"
    },
    "language_info": {
      "name": "python"
    }
  },
  "cells": [
    {
      "cell_type": "markdown",
      "metadata": {
        "id": "view-in-github",
        "colab_type": "text"
      },
      "source": [
        "<a href=\"https://colab.research.google.com/github/ankit-genzeon/AI-ML-Bootcamp-Genzeon-2023/blob/master/Spam_Detection.ipynb\" target=\"_parent\"><img src=\"https://colab.research.google.com/assets/colab-badge.svg\" alt=\"Open In Colab\"/></a>"
      ]
    },
    {
      "cell_type": "code",
      "execution_count": 65,
      "metadata": {
        "colab": {
          "base_uri": "https://localhost:8080/"
        },
        "id": "8ouCBEq-PftO",
        "outputId": "8dec12fc-7c0b-4a4c-e168-116e55119e8f"
      },
      "outputs": [
        {
          "output_type": "stream",
          "name": "stdout",
          "text": [
            "     label                                        sms_message\n",
            "0      ham  Go until jurong point, crazy.. Available only ...\n",
            "1      ham                      Ok lar... Joking wif u oni...\n",
            "2     spam  Free entry in 2 a wkly comp to win FA Cup fina...\n",
            "3      ham  U dun say so early hor... U c already then say...\n",
            "4      ham  Nah I don't think he goes to usf, he lives aro...\n",
            "...    ...                                                ...\n",
            "5567  spam  This is the 2nd time we have tried 2 contact u...\n",
            "5568   ham               Will ü b going to esplanade fr home?\n",
            "5569   ham  Pity, * was in mood for that. So...any other s...\n",
            "5570   ham  The guy did some bitching but I acted like i'd...\n",
            "5571   ham                         Rofl. Its true to its name\n",
            "\n",
            "[5572 rows x 2 columns]\n"
          ]
        }
      ],
      "source": [
        "import pandas as pd\n",
        "\n",
        "# Define custom column names\n",
        "column_names = ['label', 'sms_message']\n",
        "\n",
        "# Read the tab-separated data file into a DataFrame with custom column names\n",
        "data_frame = pd.read_csv('/content/drive/MyDrive/Colab Notebooks/DataSet/SMSSpamCollection', sep='\\t', header=None, names=column_names)\n",
        "\n",
        "# Display the DataFrame\n",
        "print(data_frame)\n",
        "\n"
      ]
    },
    {
      "cell_type": "code",
      "source": [
        "import pandas as pd\n",
        "from collections import Counter\n",
        "\n",
        "# Filter out the spam messages from the DataFrame\n",
        "spam_messages = data_frame[data_frame['label'] == 'spam']\n",
        "\n",
        "# Concatenate all the spam message contents into a single string\n",
        "spam_text = ' '.join(spam_messages['sms_message'].tolist())\n",
        "\n",
        "# Split the spam text into individual words\n",
        "words = spam_text.split()\n",
        "\n",
        "# Count the frequency of each word\n",
        "word_counts = Counter(words)\n",
        "\n",
        "# Set the number of most repeated words you want to retrieve\n",
        "num_most_common = 10\n",
        "\n",
        "# Get the most repeated words\n",
        "most_common_words = word_counts.most_common(num_most_common)\n",
        "\n",
        "# Display the most repeated words\n",
        "for word, count in most_common_words:\n",
        "    print(word, count)\n"
      ],
      "metadata": {
        "colab": {
          "base_uri": "https://localhost:8080/"
        },
        "id": "k4QRm3S4QRuf",
        "outputId": "b3fd889b-51b7-47cf-cceb-0582d36c61d1"
      },
      "execution_count": 66,
      "outputs": [
        {
          "output_type": "stream",
          "name": "stdout",
          "text": [
            "to 607\n",
            "a 360\n",
            "your 187\n",
            "call 185\n",
            "or 185\n",
            "the 178\n",
            "2 169\n",
            "for 169\n",
            "you 164\n",
            "is 143\n"
          ]
        }
      ]
    },
    {
      "cell_type": "code",
      "source": [
        "import pandas as pd\n",
        "from sklearn.preprocessing import LabelEncoder\n",
        "\n",
        "# Initialize LabelEncoder\n",
        "label_encoder = LabelEncoder()\n",
        "# Encode the \"label\" column\n",
        "data_frame['label_encoded'] = label_encoder.fit_transform(data_frame['label'])\n",
        "\n",
        "print(data_frame)"
      ],
      "metadata": {
        "colab": {
          "base_uri": "https://localhost:8080/"
        },
        "id": "_cf98ZhBQXQ_",
        "outputId": "e51f04d1-575b-42e8-fd63-8ce4364f2bf1"
      },
      "execution_count": 67,
      "outputs": [
        {
          "output_type": "stream",
          "name": "stdout",
          "text": [
            "     label                                        sms_message  label_encoded\n",
            "0      ham  Go until jurong point, crazy.. Available only ...              0\n",
            "1      ham                      Ok lar... Joking wif u oni...              0\n",
            "2     spam  Free entry in 2 a wkly comp to win FA Cup fina...              1\n",
            "3      ham  U dun say so early hor... U c already then say...              0\n",
            "4      ham  Nah I don't think he goes to usf, he lives aro...              0\n",
            "...    ...                                                ...            ...\n",
            "5567  spam  This is the 2nd time we have tried 2 contact u...              1\n",
            "5568   ham               Will ü b going to esplanade fr home?              0\n",
            "5569   ham  Pity, * was in mood for that. So...any other s...              0\n",
            "5570   ham  The guy did some bitching but I acted like i'd...              0\n",
            "5571   ham                         Rofl. Its true to its name              0\n",
            "\n",
            "[5572 rows x 3 columns]\n"
          ]
        }
      ]
    },
    {
      "cell_type": "code",
      "source": [
        "# import pandas as pd\n",
        "# from sklearn.feature_extraction.text import CountVectorizer\n",
        "# from sklearn.tree import DecisionTreeClassifier\n",
        "# from sklearn.model_selection import train_test_split\n",
        "\n",
        "# # Split the data into features (X) and target (y)\n",
        "# X = data_frame['sms_message']\n",
        "# y = data_frame['label']\n",
        "\n",
        "# # Split the data into training and testing sets\n",
        "# X_train, X_test, y_train, y_test = train_test_split(X, y, test_size=0.25, random_state=42)\n",
        "\n",
        "# # Initialize the CountVectorizer\n",
        "# vectorizer = CountVectorizer()\n",
        "\n",
        "# # Fit and transform the training data\n",
        "# X_train_transformed = vectorizer.fit_transform(X_train)\n",
        "\n",
        "# # Transform the testing data\n",
        "# X_test_transformed = vectorizer.transform(X_test)\n",
        "\n",
        "# # Convert the transformed data to matrix\n",
        "# X_train_matrix = X_train_transformed.toarray()\n",
        "# X_test_matrix = X_test_transformed.toarray()\n",
        "\n",
        "# # Initialize the decision tree classifier\n",
        "# classifier = DecisionTreeClassifier()\n",
        "\n",
        "# # Fit the classifier to the training data\n",
        "# classifier.fit(X_train_matrix, y_train)\n",
        "\n",
        "# # Predict on the test data\n",
        "# y_pred = classifier.predict(X_test_matrix)\n",
        "\n",
        "# # Evaluate the classifier's performance\n",
        "# accuracy = (y_pred == y_test).mean()\n",
        "# print(\"Accuracy:\", accuracy)\n"
      ],
      "metadata": {
        "id": "XCQutFMeR3z4"
      },
      "execution_count": null,
      "outputs": []
    },
    {
      "cell_type": "code",
      "source": [
        "import pandas as pd\n",
        "from sklearn.feature_extraction.text import TfidfVectorizer\n",
        "from sklearn.naive_bayes import GaussianNB\n",
        "from sklearn.model_selection import train_test_split\n",
        "from sklearn.metrics import accuracy_score\n",
        "\n",
        "# Split the data into features (X) and target (y)\n",
        "X = data_frame['sms_message']\n",
        "y = data_frame['label']\n",
        "\n",
        "# Split the data into training and testing sets\n",
        "X_train, X_test, y_train, y_test = train_test_split(X, y, test_size=0.25, random_state=42)\n",
        "\n",
        "# Initialize the TF-IDF vectorizer\n",
        "vectorizer = TfidfVectorizer()\n",
        "\n",
        "# Fit and transform the training data\n",
        "X_train_transformed = vectorizer.fit_transform(X_train).toarray()\n",
        "\n",
        "# Transform the testing data\n",
        "X_test_transformed = vectorizer.transform(X_test).toarray()\n",
        "\n",
        "# Initialize the Gaussian Naive Bayes classifier\n",
        "classifier = GaussianNB()\n",
        "\n",
        "# Fit the classifier to the training data\n",
        "classifier.fit(X_train_transformed, y_train)\n",
        "\n",
        "# Predict on the test data\n",
        "y_pred = classifier.predict(X_test_transformed)\n",
        "\n",
        "# Evaluate the classifier's performance\n",
        "accuracy = accuracy_score(y_test, y_pred)\n",
        "print(\"Accuracy:\", accuracy)\n"
      ],
      "metadata": {
        "colab": {
          "base_uri": "https://localhost:8080/"
        },
        "id": "7vpod9-XUR4n",
        "outputId": "d5d3239f-abc9-4df3-a41c-5261e91807d8"
      },
      "execution_count": 71,
      "outputs": [
        {
          "output_type": "stream",
          "name": "stdout",
          "text": [
            "Accuracy: 0.9038047379755922\n"
          ]
        }
      ]
    },
    {
      "cell_type": "code",
      "source": [
        "pip install gradio pandas scikit-learn"
      ],
      "metadata": {
        "id": "bPeRrDivatAJ"
      },
      "execution_count": null,
      "outputs": []
    },
    {
      "cell_type": "code",
      "source": [
        "import gradio as gr\n",
        "import pandas as pd\n",
        "from sklearn.feature_extraction.text import TfidfVectorizer\n",
        "from sklearn.naive_bayes import MultinomialNB\n",
        "\n",
        "# Load the spam detection model\n",
        "\n",
        "vectorizer = TfidfVectorizer()\n",
        "X_train_transformed = vectorizer.fit_transform(data_frame['sms_message'])\n",
        "y_train = data_frame['label']\n",
        "classifier = MultinomialNB()\n",
        "classifier.fit(X_train_transformed, y_train)\n",
        "\n",
        "# Define the prediction function\n",
        "def spam_detection(email):\n",
        "    transformed_email = vectorizer.transform([email])\n",
        "    prediction = classifier.predict(transformed_email)\n",
        "    if prediction[0] == 'spam':\n",
        "        return \"This email is classified as SPAM.\"\n",
        "    else:\n",
        "        return \"This email is classified as NOT SPAM.\"\n",
        "\n",
        "# Create the Gradio interface\n",
        "inputs = gr.inputs.Textbox(label=\"Enter Email Text\")\n",
        "outputs = gr.outputs.Textbox(label=\"Prediction\")\n",
        "\n",
        "gr.Interface(fn=spam_detection, inputs=inputs, outputs=outputs, title=\"Spam Email Detection\").launch()\n"
      ],
      "metadata": {
        "colab": {
          "base_uri": "https://localhost:8080/",
          "height": 755
        },
        "id": "5b9LRvrsahYO",
        "outputId": "0071f991-0901-40f2-99c1-f56cefe38d15"
      },
      "execution_count": 74,
      "outputs": [
        {
          "output_type": "stream",
          "name": "stderr",
          "text": [
            "/usr/local/lib/python3.10/dist-packages/gradio/inputs.py:27: UserWarning: Usage of gradio.inputs is deprecated, and will not be supported in the future, please import your component from gradio.components\n",
            "  warnings.warn(\n",
            "/usr/local/lib/python3.10/dist-packages/gradio/inputs.py:30: UserWarning: `optional` parameter is deprecated, and it has no effect\n",
            "  super().__init__(\n",
            "/usr/local/lib/python3.10/dist-packages/gradio/inputs.py:30: UserWarning: `numeric` parameter is deprecated, and it has no effect\n",
            "  super().__init__(\n",
            "/usr/local/lib/python3.10/dist-packages/gradio/outputs.py:22: UserWarning: Usage of gradio.outputs is deprecated, and will not be supported in the future, please import your components from gradio.components\n",
            "  warnings.warn(\n"
          ]
        },
        {
          "output_type": "stream",
          "name": "stdout",
          "text": [
            "Colab notebook detected. To show errors in colab notebook, set debug=True in launch()\n",
            "Note: opening Chrome Inspector may crash demo inside Colab notebooks.\n",
            "\n",
            "To create a public link, set `share=True` in `launch()`.\n"
          ]
        },
        {
          "output_type": "display_data",
          "data": {
            "text/plain": [
              "<IPython.core.display.Javascript object>"
            ],
            "application/javascript": [
              "(async (port, path, width, height, cache, element) => {\n",
              "                        if (!google.colab.kernel.accessAllowed && !cache) {\n",
              "                            return;\n",
              "                        }\n",
              "                        element.appendChild(document.createTextNode(''));\n",
              "                        const url = await google.colab.kernel.proxyPort(port, {cache});\n",
              "\n",
              "                        const external_link = document.createElement('div');\n",
              "                        external_link.innerHTML = `\n",
              "                            <div style=\"font-family: monospace; margin-bottom: 0.5rem\">\n",
              "                                Running on <a href=${new URL(path, url).toString()} target=\"_blank\">\n",
              "                                    https://localhost:${port}${path}\n",
              "                                </a>\n",
              "                            </div>\n",
              "                        `;\n",
              "                        element.appendChild(external_link);\n",
              "\n",
              "                        const iframe = document.createElement('iframe');\n",
              "                        iframe.src = new URL(path, url).toString();\n",
              "                        iframe.height = height;\n",
              "                        iframe.allow = \"autoplay; camera; microphone; clipboard-read; clipboard-write;\"\n",
              "                        iframe.width = width;\n",
              "                        iframe.style.border = 0;\n",
              "                        element.appendChild(iframe);\n",
              "                    })(7872, \"/\", \"100%\", 500, false, window.element)"
            ]
          },
          "metadata": {}
        },
        {
          "output_type": "execute_result",
          "data": {
            "text/plain": []
          },
          "metadata": {},
          "execution_count": 74
        }
      ]
    }
  ]
}