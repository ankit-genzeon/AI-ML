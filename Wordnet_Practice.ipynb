{
  "nbformat": 4,
  "nbformat_minor": 0,
  "metadata": {
    "colab": {
      "provenance": [],
      "mount_file_id": "1m_CLNbXiJvw4_UrC0E7JoYAW22mAk95M",
      "authorship_tag": "ABX9TyNGocp1j9Cu/vjbo2GbR7aO",
      "include_colab_link": true
    },
    "kernelspec": {
      "name": "python3",
      "display_name": "Python 3"
    },
    "language_info": {
      "name": "python"
    }
  },
  "cells": [
    {
      "cell_type": "markdown",
      "metadata": {
        "id": "view-in-github",
        "colab_type": "text"
      },
      "source": [
        "<a href=\"https://colab.research.google.com/github/ankit-genzeon/AI-ML-Bootcamp-Genzeon-2023/blob/master/Wordnet_Practice.ipynb\" target=\"_parent\"><img src=\"https://colab.research.google.com/assets/colab-badge.svg\" alt=\"Open In Colab\"/></a>"
      ]
    },
    {
      "cell_type": "code",
      "execution_count": null,
      "metadata": {
        "id": "ao7FiCaxeZT2"
      },
      "outputs": [],
      "source": [
        "text1 = \"Natural processing Language is a subfield of AI\"\n",
        "tag1= \"NLP\"\n",
        "text2= \"Computer Vision is a subfield of AI\"\n",
        "tag2= \"CV\""
      ]
    },
    {
      "cell_type": "code",
      "source": [
        "from sklearn.feature_extraction.text import TfidfVectorizer\n",
        "\n",
        "vectorizer = TfidfVectorizer()\n",
        "vectorized_text = vectorizer.fit_transform([text1, text2])\n",
        "\n",
        "feature_names = vectorizer.get_feature_names_out()\n",
        "print(\"Feature Names:\", feature_names)\n",
        "print(\"Vectorized Text:\")\n",
        "print(vectorized_text.toarray())\n",
        "print(\"Tags:\", [tag1, tag2])\n"
      ],
      "metadata": {
        "colab": {
          "base_uri": "https://localhost:8080/"
        },
        "id": "XPEeWCMeg7nR",
        "outputId": "ab9cda40-e4e6-4026-b063-2cdb95dad3ff"
      },
      "execution_count": null,
      "outputs": [
        {
          "output_type": "stream",
          "name": "stdout",
          "text": [
            "Feature Names: ['ai' 'computer' 'is' 'language' 'natural' 'of' 'processing' 'subfield'\n",
            " 'vision']\n",
            "Vectorized Text:\n",
            "[[0.3174044  0.         0.3174044  0.44610081 0.44610081 0.3174044\n",
            "  0.44610081 0.3174044  0.        ]\n",
            " [0.35464863 0.49844628 0.35464863 0.         0.         0.35464863\n",
            "  0.         0.35464863 0.49844628]]\n",
            "Tags: ['NLP', 'CV']\n"
          ]
        }
      ]
    },
    {
      "cell_type": "code",
      "source": [
        "#stemming randomly chops some letters in a word to bring it in a base form and\n",
        "#lemmetisation brings the word into the base form by considering the synmentics"
      ],
      "metadata": {
        "id": "U_ZkOYXSnalG"
      },
      "execution_count": null,
      "outputs": []
    },
    {
      "cell_type": "code",
      "source": [
        "import nltk\n",
        "nltk.download(['punkt','wordnet','omw-1.4'])"
      ],
      "metadata": {
        "colab": {
          "base_uri": "https://localhost:8080/"
        },
        "id": "EQ2IvTpSA6sU",
        "outputId": "10a4217d-19c2-4fdf-9ec9-835bb0ee3e71"
      },
      "execution_count": 14,
      "outputs": [
        {
          "output_type": "stream",
          "name": "stderr",
          "text": [
            "[nltk_data] Downloading package punkt to /root/nltk_data...\n",
            "[nltk_data]   Unzipping tokenizers/punkt.zip.\n",
            "[nltk_data] Downloading package wordnet to /root/nltk_data...\n",
            "[nltk_data] Downloading package omw-1.4 to /root/nltk_data...\n"
          ]
        },
        {
          "output_type": "execute_result",
          "data": {
            "text/plain": [
              "True"
            ]
          },
          "metadata": {},
          "execution_count": 14
        }
      ]
    },
    {
      "cell_type": "code",
      "source": [
        "from sklearn.feature_extraction.text import TfidfVectorizer\n",
        "from nltk.stem import WordNetLemmatizer\n",
        "\n",
        "lemm = WordNetLemmatizer()\n",
        "sentence = 'My grandma is very cared. The striped bats are hanging on their feets'\n",
        "\n",
        "li_words=nltk.word_tokenize(sentence)\n",
        "print(li_words)\n"
      ],
      "metadata": {
        "colab": {
          "base_uri": "https://localhost:8080/"
        },
        "id": "QEeZPoMQ_ylZ",
        "outputId": "4c4801ef-76b6-4968-c18a-c4f7607ff778"
      },
      "execution_count": 17,
      "outputs": [
        {
          "output_type": "stream",
          "name": "stdout",
          "text": [
            "['My', 'grandma', 'is', 'very', 'cared', '.', 'The', 'striped', 'bats', 'are', 'hanging', 'on', 'their', 'feets']\n"
          ]
        }
      ]
    },
    {
      "cell_type": "code",
      "source": [
        "output =[lemm.lemmatize(w)for w in li_words]\n",
        "print(output)"
      ],
      "metadata": {
        "colab": {
          "base_uri": "https://localhost:8080/"
        },
        "id": "PX-A92UGC8Kv",
        "outputId": "9470f744-b332-4fa1-a220-cda58df6fadd"
      },
      "execution_count": 19,
      "outputs": [
        {
          "output_type": "stream",
          "name": "stdout",
          "text": [
            "['My', 'grandma', 'is', 'very', 'cared', '.', 'The', 'striped', 'bat', 'are', 'hanging', 'on', 'their', 'feets']\n"
          ]
        }
      ]
    },
    {
      "cell_type": "code",
      "source": [
        "print(lemm.lemmatize('hanging','v'))"
      ],
      "metadata": {
        "colab": {
          "base_uri": "https://localhost:8080/"
        },
        "id": "R8tCgWvYDeTu",
        "outputId": "9478805c-b9c9-4347-ee39-bdf4877e4da4"
      },
      "execution_count": 20,
      "outputs": [
        {
          "output_type": "stream",
          "name": "stdout",
          "text": [
            "hang\n"
          ]
        }
      ]
    },
    {
      "cell_type": "code",
      "source": [
        "print(lemm.lemmatize('stripes','v'))\n",
        "print(lemm.lemmatize('stripes','n'))\n",
        "print(lemm.lemmatize('are','v'))"
      ],
      "metadata": {
        "colab": {
          "base_uri": "https://localhost:8080/"
        },
        "id": "qP3LchcJDtKS",
        "outputId": "1d02f77a-e62a-43da-b407-a6384a744923"
      },
      "execution_count": 22,
      "outputs": [
        {
          "output_type": "stream",
          "name": "stdout",
          "text": [
            "strip\n",
            "stripe\n",
            "be\n"
          ]
        }
      ]
    },
    {
      "cell_type": "code",
      "source": [
        "nltk.download('averaged_perceptron_tagger')"
      ],
      "metadata": {
        "colab": {
          "base_uri": "https://localhost:8080/"
        },
        "id": "Y7kyGwtqEw-c",
        "outputId": "9f3c02d7-ccb9-42fd-fbdd-ce7d2db274e1"
      },
      "execution_count": 24,
      "outputs": [
        {
          "output_type": "stream",
          "name": "stderr",
          "text": [
            "[nltk_data] Downloading package averaged_perceptron_tagger to\n",
            "[nltk_data]     /root/nltk_data...\n",
            "[nltk_data]   Unzipping taggers/averaged_perceptron_tagger.zip.\n"
          ]
        },
        {
          "output_type": "execute_result",
          "data": {
            "text/plain": [
              "True"
            ]
          },
          "metadata": {},
          "execution_count": 24
        }
      ]
    },
    {
      "cell_type": "code",
      "source": [
        "# WORDNET lemmatizer with pos tag\n",
        "def get_wordnet_pos_tag(word):\n",
        "  tag = nltk.pos_tag([word])\n",
        "  return tag\n",
        "\n",
        "get_wordnet_pos_tag(\"caring\")\n",
        "get_wordnet_pos_tag(\"intelligent\")"
      ],
      "metadata": {
        "colab": {
          "base_uri": "https://localhost:8080/"
        },
        "id": "aa09NnNkD3cz",
        "outputId": "2725175c-4681-4d49-c2c5-5d2380c39d3b"
      },
      "execution_count": 29,
      "outputs": [
        {
          "output_type": "execute_result",
          "data": {
            "text/plain": [
              "[('intelligent', 'NN')]"
            ]
          },
          "metadata": {},
          "execution_count": 29
        }
      ]
    },
    {
      "cell_type": "code",
      "source": [
        "from nltk.corpus.reader import wordnet\n",
        "\n",
        "def get_wordnet_pos_tag(word):\n",
        "  tag = nltk.pos_tag([word])[0][1][0]\n",
        "  tag_dict={\n",
        "      \"J\":wordnet.ADJ,\n",
        "      \"R\":wordnet.ADV,\n",
        "      \"N\":wordnet.NOUN,\n",
        "      \"V\":wordnet.VERB\n",
        "  }\n",
        "  return tag_dict.get(tag,wordnet.NOUN)\n",
        "\n",
        "get_wordnet_pos_tag(\"caring\")\n"
      ],
      "metadata": {
        "colab": {
          "base_uri": "https://localhost:8080/",
          "height": 35
        },
        "id": "o19Sj63uFH_V",
        "outputId": "e2ac4a34-62b5-4ee6-9b41-ff194fbd7cab"
      },
      "execution_count": 31,
      "outputs": [
        {
          "output_type": "execute_result",
          "data": {
            "text/plain": [
              "'v'"
            ],
            "application/vnd.google.colaboratory.intrinsic+json": {
              "type": "string"
            }
          },
          "metadata": {},
          "execution_count": 31
        }
      ]
    },
    {
      "cell_type": "code",
      "source": [
        "lemm= WordNetLemmatizer()\n",
        "word= \"caring\"\n",
        "print(lemm.lemmatize(word, get_wordnet_pos_tag(word)))"
      ],
      "metadata": {
        "colab": {
          "base_uri": "https://localhost:8080/"
        },
        "id": "aa61ZHYhHFj9",
        "outputId": "c1a3470e-af97-4346-b8de-7b03539c44d8"
      },
      "execution_count": 34,
      "outputs": [
        {
          "output_type": "stream",
          "name": "stdout",
          "text": [
            "care\n"
          ]
        }
      ]
    },
    {
      "cell_type": "code",
      "source": [
        "sentence = 'My grandma is very caring. The striped bats are hanging on their feet'\n",
        "\n",
        "li_words=nltk.word_tokenize(sentence)\n",
        "print(li_words)"
      ],
      "metadata": {
        "colab": {
          "base_uri": "https://localhost:8080/"
        },
        "id": "dK1FzBA6HU_E",
        "outputId": "2050d8da-c638-47f8-e418-976a487e6198"
      },
      "execution_count": 44,
      "outputs": [
        {
          "output_type": "stream",
          "name": "stdout",
          "text": [
            "['My', 'grandma', 'is', 'very', 'caring', '.', 'The', 'striped', 'bats', 'are', 'hanging', 'on', 'their', 'feet']\n"
          ]
        }
      ]
    },
    {
      "cell_type": "code",
      "source": [
        "output =[lemm.lemmatize(w, get_wordnet_pos_tag(w))for w in li_words]\n",
        "print(output)"
      ],
      "metadata": {
        "colab": {
          "base_uri": "https://localhost:8080/"
        },
        "id": "C9aVfd2mIS-Z",
        "outputId": "416cce79-5f71-4ed1-a0f3-afc0815ceaf3"
      },
      "execution_count": 45,
      "outputs": [
        {
          "output_type": "stream",
          "name": "stdout",
          "text": [
            "['My', 'grandma', 'be', 'very', 'care', '.', 'The', 'strip', 'bat', 'be', 'hang', 'on', 'their', 'foot']\n"
          ]
        }
      ]
    },
    {
      "cell_type": "code",
      "source": [
        "import spacy\n",
        "sp_nlp = spacy.load('en_core_web_sm')\n",
        "sentence = 'My grandma is very caring. The striped bats are hanging on their feet'\n",
        "\n",
        "doc=sp_nlp(sentence)\n",
        "print (doc)\n",
        "\n",
        "output=[token.lemma_ for token in doc]\n",
        "print(output)"
      ],
      "metadata": {
        "colab": {
          "base_uri": "https://localhost:8080/"
        },
        "id": "6KQtMUcbJZi7",
        "outputId": "42117d1b-4c80-44d6-92ba-4eb0f1e5973c"
      },
      "execution_count": 46,
      "outputs": [
        {
          "output_type": "stream",
          "name": "stdout",
          "text": [
            "My grandma is very caring. The striped bats are hanging on their feet\n",
            "['my', 'grandma', 'be', 'very', 'caring', '.', 'the', 'stripe', 'bat', 'be', 'hang', 'on', 'their', 'foot']\n"
          ]
        }
      ]
    }
  ]
}