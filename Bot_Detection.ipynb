{
  "nbformat": 4,
  "nbformat_minor": 0,
  "metadata": {
    "colab": {
      "provenance": [],
      "mount_file_id": "1OHz3lCcC2_5IpXipYjY5ALYzlFcR8HCI",
      "authorship_tag": "ABX9TyMeOEkXf5Ivqosq967HLZNI",
      "include_colab_link": true
    },
    "kernelspec": {
      "name": "python3",
      "display_name": "Python 3"
    },
    "language_info": {
      "name": "python"
    }
  },
  "cells": [
    {
      "cell_type": "markdown",
      "metadata": {
        "id": "view-in-github",
        "colab_type": "text"
      },
      "source": [
        "<a href=\"https://colab.research.google.com/github/ankit-genzeon/AI-ML-Bootcamp-Genzeon-2023/blob/master/Bot_Detection.ipynb\" target=\"_parent\"><img src=\"https://colab.research.google.com/assets/colab-badge.svg\" alt=\"Open In Colab\"/></a>"
      ]
    },
    {
      "cell_type": "code",
      "execution_count": 1,
      "metadata": {
        "id": "Y0pkZ1soq3iB"
      },
      "outputs": [],
      "source": [
        "import pandas as pd\n",
        "Dataset = '/content/drive/MyDrive/Colab Notebooks/DataSet/bot_detection_data.csv'\n",
        "df = pd.read_csv(Dataset)"
      ]
    },
    {
      "cell_type": "code",
      "source": [
        "df.head()"
      ],
      "metadata": {
        "id": "HCGj0ZoRrtEx"
      },
      "execution_count": null,
      "outputs": []
    },
    {
      "cell_type": "code",
      "source": [
        "df.describe()"
      ],
      "metadata": {
        "id": "IHgixYDCsP2Y"
      },
      "execution_count": null,
      "outputs": []
    },
    {
      "cell_type": "code",
      "source": [
        "df.shape"
      ],
      "metadata": {
        "id": "F6L_X_XxscrY"
      },
      "execution_count": null,
      "outputs": []
    },
    {
      "cell_type": "code",
      "source": [
        "import pandas as pd\n",
        "import matplotlib.pyplot as plt\n",
        "import seaborn as sns\n",
        "\n",
        "# Keep the desired columns\n",
        "df = df[['Tweet', 'Username', 'Bot Label', 'Verified', 'Hashtags', 'Follower Count', 'Retweet Count']]\n",
        "\n",
        "# Visualize the relationship between Retweet Count and Follower Count\n",
        "sns.scatterplot(data=df, x='Retweet Count', y='Follower Count')\n",
        "plt.title('Relationship between Retweet Count and Follower Count')\n",
        "plt.show()\n",
        "\n",
        "# Count of Verified and Unverified Accounts\n",
        "sns.countplot(data=df, x='Verified')\n",
        "plt.title('Count of Verified and Unverified Accounts')\n",
        "plt.xlabel('Verified')\n",
        "plt.ylabel('Count')\n",
        "plt.show()\n"
      ],
      "metadata": {
        "id": "mfSrIWLVpNSS"
      },
      "execution_count": null,
      "outputs": []
    },
    {
      "cell_type": "code",
      "source": [
        "from sklearn.preprocessing import LabelEncoder\n",
        "# Label encode the Verified column\n",
        "label_encoder = LabelEncoder()\n",
        "df['Verified'] = label_encoder.fit_transform(df['Verified'])"
      ],
      "metadata": {
        "id": "dYBZnY4ppl-N"
      },
      "execution_count": 5,
      "outputs": []
    },
    {
      "cell_type": "code",
      "source": [
        "from sklearn.preprocessing import LabelEncoder\n",
        "# Handling missing values\n",
        "df['Hashtags'].fillna('Unknown', inplace=True)  # Replace missing locations with 'Unknown'"
      ],
      "metadata": {
        "id": "ljyMynhBpxA-"
      },
      "execution_count": 7,
      "outputs": []
    },
    {
      "cell_type": "code",
      "source": [
        "df.head()"
      ],
      "metadata": {
        "id": "IvTkt5AAqpYE"
      },
      "execution_count": null,
      "outputs": []
    },
    {
      "cell_type": "code",
      "source": [
        "from scipy.sparse import csr_matrix\n",
        "from sklearn.feature_extraction.text import TfidfVectorizer\n",
        "\n",
        "# Combine all text columns into a single Series\n",
        "text_data = df['Tweet'] + ' ' + df['Username'] + ' ' + df['Hashtags']\n",
        "\n",
        "# Text vectorization using TF-IDF (sparse representation)\n",
        "vectorizer = TfidfVectorizer()\n",
        "text_sparse = vectorizer.fit_transform(text_data)\n",
        "\n",
        "# # Split the sparse matrix into separate parts\n",
        "# tweet_sparse = text_sparse[:, :tweet_length]\n",
        "# username_sparse = text_sparse[:, tweet_length:(tweet_length+username_length)]\n",
        "# hashtags_sparse = text_sparse[:, (tweet_length+username_length):]\n",
        "\n",
        "# # Print the lengths\n",
        "# print(\"Tweet Length:\", tweet_length)\n",
        "# print(\"Username Length:\", username_length)\n",
        "# print(\"Hashtags Length:\", hashtags_length)\n"
      ],
      "metadata": {
        "id": "AI1O0QOUrJuA"
      },
      "execution_count": 9,
      "outputs": []
    },
    {
      "cell_type": "code",
      "source": [
        "# Keep the desired columns\n",
        "df = df[['Username','Tweet', 'Verified', 'Hashtags', 'Follower Count', 'Retweet Count', 'Bot Label']]"
      ],
      "metadata": {
        "id": "b5fuK4_YJfXq"
      },
      "execution_count": 12,
      "outputs": []
    },
    {
      "cell_type": "code",
      "source": [
        "df.head()"
      ],
      "metadata": {
        "colab": {
          "base_uri": "https://localhost:8080/",
          "height": 206
        },
        "id": "q4GVR5-DJg8P",
        "outputId": "7b9fd4d1-c0de-4542-bf72-b4ba36067531"
      },
      "execution_count": 13,
      "outputs": [
        {
          "output_type": "execute_result",
          "data": {
            "text/plain": [
              "         Username                                              Tweet  \\\n",
              "0           flong  Station activity person against natural majori...   \n",
              "1  hinesstephanie  Authority research natural life material staff...   \n",
              "2      roberttran  Manage whose quickly especially foot none to g...   \n",
              "3          pmason  Just cover eight opportunity strong policy which.   \n",
              "4          noah87                      Animal sign six data good or.   \n",
              "\n",
              "   Verified            Hashtags  Follower Count  Retweet Count  Bot Label  \n",
              "0         0             Unknown            2353             85          1  \n",
              "1         1           both live            9617             55          0  \n",
              "2         1         phone ahead            4363              6          0  \n",
              "3         1  ever quickly new I            2242             54          1  \n",
              "4         0     foreign mention            8438             26          1  "
            ],
            "text/html": [
              "\n",
              "  <div id=\"df-299ac583-7062-49a3-b640-71f987c5eeba\">\n",
              "    <div class=\"colab-df-container\">\n",
              "      <div>\n",
              "<style scoped>\n",
              "    .dataframe tbody tr th:only-of-type {\n",
              "        vertical-align: middle;\n",
              "    }\n",
              "\n",
              "    .dataframe tbody tr th {\n",
              "        vertical-align: top;\n",
              "    }\n",
              "\n",
              "    .dataframe thead th {\n",
              "        text-align: right;\n",
              "    }\n",
              "</style>\n",
              "<table border=\"1\" class=\"dataframe\">\n",
              "  <thead>\n",
              "    <tr style=\"text-align: right;\">\n",
              "      <th></th>\n",
              "      <th>Username</th>\n",
              "      <th>Tweet</th>\n",
              "      <th>Verified</th>\n",
              "      <th>Hashtags</th>\n",
              "      <th>Follower Count</th>\n",
              "      <th>Retweet Count</th>\n",
              "      <th>Bot Label</th>\n",
              "    </tr>\n",
              "  </thead>\n",
              "  <tbody>\n",
              "    <tr>\n",
              "      <th>0</th>\n",
              "      <td>flong</td>\n",
              "      <td>Station activity person against natural majori...</td>\n",
              "      <td>0</td>\n",
              "      <td>Unknown</td>\n",
              "      <td>2353</td>\n",
              "      <td>85</td>\n",
              "      <td>1</td>\n",
              "    </tr>\n",
              "    <tr>\n",
              "      <th>1</th>\n",
              "      <td>hinesstephanie</td>\n",
              "      <td>Authority research natural life material staff...</td>\n",
              "      <td>1</td>\n",
              "      <td>both live</td>\n",
              "      <td>9617</td>\n",
              "      <td>55</td>\n",
              "      <td>0</td>\n",
              "    </tr>\n",
              "    <tr>\n",
              "      <th>2</th>\n",
              "      <td>roberttran</td>\n",
              "      <td>Manage whose quickly especially foot none to g...</td>\n",
              "      <td>1</td>\n",
              "      <td>phone ahead</td>\n",
              "      <td>4363</td>\n",
              "      <td>6</td>\n",
              "      <td>0</td>\n",
              "    </tr>\n",
              "    <tr>\n",
              "      <th>3</th>\n",
              "      <td>pmason</td>\n",
              "      <td>Just cover eight opportunity strong policy which.</td>\n",
              "      <td>1</td>\n",
              "      <td>ever quickly new I</td>\n",
              "      <td>2242</td>\n",
              "      <td>54</td>\n",
              "      <td>1</td>\n",
              "    </tr>\n",
              "    <tr>\n",
              "      <th>4</th>\n",
              "      <td>noah87</td>\n",
              "      <td>Animal sign six data good or.</td>\n",
              "      <td>0</td>\n",
              "      <td>foreign mention</td>\n",
              "      <td>8438</td>\n",
              "      <td>26</td>\n",
              "      <td>1</td>\n",
              "    </tr>\n",
              "  </tbody>\n",
              "</table>\n",
              "</div>\n",
              "      <button class=\"colab-df-convert\" onclick=\"convertToInteractive('df-299ac583-7062-49a3-b640-71f987c5eeba')\"\n",
              "              title=\"Convert this dataframe to an interactive table.\"\n",
              "              style=\"display:none;\">\n",
              "        \n",
              "  <svg xmlns=\"http://www.w3.org/2000/svg\" height=\"24px\"viewBox=\"0 0 24 24\"\n",
              "       width=\"24px\">\n",
              "    <path d=\"M0 0h24v24H0V0z\" fill=\"none\"/>\n",
              "    <path d=\"M18.56 5.44l.94 2.06.94-2.06 2.06-.94-2.06-.94-.94-2.06-.94 2.06-2.06.94zm-11 1L8.5 8.5l.94-2.06 2.06-.94-2.06-.94L8.5 2.5l-.94 2.06-2.06.94zm10 10l.94 2.06.94-2.06 2.06-.94-2.06-.94-.94-2.06-.94 2.06-2.06.94z\"/><path d=\"M17.41 7.96l-1.37-1.37c-.4-.4-.92-.59-1.43-.59-.52 0-1.04.2-1.43.59L10.3 9.45l-7.72 7.72c-.78.78-.78 2.05 0 2.83L4 21.41c.39.39.9.59 1.41.59.51 0 1.02-.2 1.41-.59l7.78-7.78 2.81-2.81c.8-.78.8-2.07 0-2.86zM5.41 20L4 18.59l7.72-7.72 1.47 1.35L5.41 20z\"/>\n",
              "  </svg>\n",
              "      </button>\n",
              "      \n",
              "  <style>\n",
              "    .colab-df-container {\n",
              "      display:flex;\n",
              "      flex-wrap:wrap;\n",
              "      gap: 12px;\n",
              "    }\n",
              "\n",
              "    .colab-df-convert {\n",
              "      background-color: #E8F0FE;\n",
              "      border: none;\n",
              "      border-radius: 50%;\n",
              "      cursor: pointer;\n",
              "      display: none;\n",
              "      fill: #1967D2;\n",
              "      height: 32px;\n",
              "      padding: 0 0 0 0;\n",
              "      width: 32px;\n",
              "    }\n",
              "\n",
              "    .colab-df-convert:hover {\n",
              "      background-color: #E2EBFA;\n",
              "      box-shadow: 0px 1px 2px rgba(60, 64, 67, 0.3), 0px 1px 3px 1px rgba(60, 64, 67, 0.15);\n",
              "      fill: #174EA6;\n",
              "    }\n",
              "\n",
              "    [theme=dark] .colab-df-convert {\n",
              "      background-color: #3B4455;\n",
              "      fill: #D2E3FC;\n",
              "    }\n",
              "\n",
              "    [theme=dark] .colab-df-convert:hover {\n",
              "      background-color: #434B5C;\n",
              "      box-shadow: 0px 1px 3px 1px rgba(0, 0, 0, 0.15);\n",
              "      filter: drop-shadow(0px 1px 2px rgba(0, 0, 0, 0.3));\n",
              "      fill: #FFFFFF;\n",
              "    }\n",
              "  </style>\n",
              "\n",
              "      <script>\n",
              "        const buttonEl =\n",
              "          document.querySelector('#df-299ac583-7062-49a3-b640-71f987c5eeba button.colab-df-convert');\n",
              "        buttonEl.style.display =\n",
              "          google.colab.kernel.accessAllowed ? 'block' : 'none';\n",
              "\n",
              "        async function convertToInteractive(key) {\n",
              "          const element = document.querySelector('#df-299ac583-7062-49a3-b640-71f987c5eeba');\n",
              "          const dataTable =\n",
              "            await google.colab.kernel.invokeFunction('convertToInteractive',\n",
              "                                                     [key], {});\n",
              "          if (!dataTable) return;\n",
              "\n",
              "          const docLinkHtml = 'Like what you see? Visit the ' +\n",
              "            '<a target=\"_blank\" href=https://colab.research.google.com/notebooks/data_table.ipynb>data table notebook</a>'\n",
              "            + ' to learn more about interactive tables.';\n",
              "          element.innerHTML = '';\n",
              "          dataTable['output_type'] = 'display_data';\n",
              "          await google.colab.output.renderOutput(dataTable, element);\n",
              "          const docLink = document.createElement('div');\n",
              "          docLink.innerHTML = docLinkHtml;\n",
              "          element.appendChild(docLink);\n",
              "        }\n",
              "      </script>\n",
              "    </div>\n",
              "  </div>\n",
              "  "
            ]
          },
          "metadata": {},
          "execution_count": 13
        }
      ]
    }
  ]
}