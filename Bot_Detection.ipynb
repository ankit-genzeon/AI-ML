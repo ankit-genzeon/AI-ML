{
  "cells": [
    {
      "cell_type": "markdown",
      "metadata": {
        "id": "view-in-github",
        "colab_type": "text"
      },
      "source": [
        "<a href=\"https://colab.research.google.com/github/ankit-genzeon/AI-ML-Bootcamp-Genzeon-2023/blob/master/Bot_Detection.ipynb\" target=\"_parent\"><img src=\"https://colab.research.google.com/assets/colab-badge.svg\" alt=\"Open In Colab\"/></a>"
      ]
    },
    {
      "cell_type": "code",
      "execution_count": null,
      "metadata": {
        "id": "Y0pkZ1soq3iB"
      },
      "outputs": [],
      "source": [
        "import pandas as pd\n",
        "Dataset = '/content/drive/MyDrive/Colab Notebooks/DataSet/bot_detection_data.csv'\n",
        "df = pd.read_csv(Dataset)"
      ]
    },
    {
      "cell_type": "code",
      "execution_count": null,
      "metadata": {
        "id": "HCGj0ZoRrtEx"
      },
      "outputs": [],
      "source": [
        "df.head()"
      ]
    },
    {
      "cell_type": "code",
      "execution_count": null,
      "metadata": {
        "colab": {
          "base_uri": "https://localhost:8080/",
          "height": 300
        },
        "id": "IHgixYDCsP2Y",
        "outputId": "9e93a650-1317-4daa-ed7b-855d11bb8b0b"
      },
      "outputs": [
        {
          "output_type": "execute_result",
          "data": {
            "text/plain": [
              "             User ID  Retweet Count  Mention Count  Follower Count  \\\n",
              "count   50000.000000    50000.00000   50000.000000    50000.000000   \n",
              "mean   548890.680540       50.00560       2.513760     4988.602380   \n",
              "std    259756.681425       29.18116       1.708563     2878.742898   \n",
              "min    100025.000000        0.00000       0.000000        0.000000   \n",
              "25%    323524.250000       25.00000       1.000000     2487.750000   \n",
              "50%    548147.000000       50.00000       3.000000     4991.500000   \n",
              "75%    772983.000000       75.00000       4.000000     7471.000000   \n",
              "max    999995.000000      100.00000       5.000000    10000.000000   \n",
              "\n",
              "          Bot Label  \n",
              "count  50000.000000  \n",
              "mean       0.500360  \n",
              "std        0.500005  \n",
              "min        0.000000  \n",
              "25%        0.000000  \n",
              "50%        1.000000  \n",
              "75%        1.000000  \n",
              "max        1.000000  "
            ],
            "text/html": [
              "\n",
              "  <div id=\"df-ba730bf7-07b6-42f9-937a-19e58bd99f21\">\n",
              "    <div class=\"colab-df-container\">\n",
              "      <div>\n",
              "<style scoped>\n",
              "    .dataframe tbody tr th:only-of-type {\n",
              "        vertical-align: middle;\n",
              "    }\n",
              "\n",
              "    .dataframe tbody tr th {\n",
              "        vertical-align: top;\n",
              "    }\n",
              "\n",
              "    .dataframe thead th {\n",
              "        text-align: right;\n",
              "    }\n",
              "</style>\n",
              "<table border=\"1\" class=\"dataframe\">\n",
              "  <thead>\n",
              "    <tr style=\"text-align: right;\">\n",
              "      <th></th>\n",
              "      <th>User ID</th>\n",
              "      <th>Retweet Count</th>\n",
              "      <th>Mention Count</th>\n",
              "      <th>Follower Count</th>\n",
              "      <th>Bot Label</th>\n",
              "    </tr>\n",
              "  </thead>\n",
              "  <tbody>\n",
              "    <tr>\n",
              "      <th>count</th>\n",
              "      <td>50000.000000</td>\n",
              "      <td>50000.00000</td>\n",
              "      <td>50000.000000</td>\n",
              "      <td>50000.000000</td>\n",
              "      <td>50000.000000</td>\n",
              "    </tr>\n",
              "    <tr>\n",
              "      <th>mean</th>\n",
              "      <td>548890.680540</td>\n",
              "      <td>50.00560</td>\n",
              "      <td>2.513760</td>\n",
              "      <td>4988.602380</td>\n",
              "      <td>0.500360</td>\n",
              "    </tr>\n",
              "    <tr>\n",
              "      <th>std</th>\n",
              "      <td>259756.681425</td>\n",
              "      <td>29.18116</td>\n",
              "      <td>1.708563</td>\n",
              "      <td>2878.742898</td>\n",
              "      <td>0.500005</td>\n",
              "    </tr>\n",
              "    <tr>\n",
              "      <th>min</th>\n",
              "      <td>100025.000000</td>\n",
              "      <td>0.00000</td>\n",
              "      <td>0.000000</td>\n",
              "      <td>0.000000</td>\n",
              "      <td>0.000000</td>\n",
              "    </tr>\n",
              "    <tr>\n",
              "      <th>25%</th>\n",
              "      <td>323524.250000</td>\n",
              "      <td>25.00000</td>\n",
              "      <td>1.000000</td>\n",
              "      <td>2487.750000</td>\n",
              "      <td>0.000000</td>\n",
              "    </tr>\n",
              "    <tr>\n",
              "      <th>50%</th>\n",
              "      <td>548147.000000</td>\n",
              "      <td>50.00000</td>\n",
              "      <td>3.000000</td>\n",
              "      <td>4991.500000</td>\n",
              "      <td>1.000000</td>\n",
              "    </tr>\n",
              "    <tr>\n",
              "      <th>75%</th>\n",
              "      <td>772983.000000</td>\n",
              "      <td>75.00000</td>\n",
              "      <td>4.000000</td>\n",
              "      <td>7471.000000</td>\n",
              "      <td>1.000000</td>\n",
              "    </tr>\n",
              "    <tr>\n",
              "      <th>max</th>\n",
              "      <td>999995.000000</td>\n",
              "      <td>100.00000</td>\n",
              "      <td>5.000000</td>\n",
              "      <td>10000.000000</td>\n",
              "      <td>1.000000</td>\n",
              "    </tr>\n",
              "  </tbody>\n",
              "</table>\n",
              "</div>\n",
              "      <button class=\"colab-df-convert\" onclick=\"convertToInteractive('df-ba730bf7-07b6-42f9-937a-19e58bd99f21')\"\n",
              "              title=\"Convert this dataframe to an interactive table.\"\n",
              "              style=\"display:none;\">\n",
              "        \n",
              "  <svg xmlns=\"http://www.w3.org/2000/svg\" height=\"24px\"viewBox=\"0 0 24 24\"\n",
              "       width=\"24px\">\n",
              "    <path d=\"M0 0h24v24H0V0z\" fill=\"none\"/>\n",
              "    <path d=\"M18.56 5.44l.94 2.06.94-2.06 2.06-.94-2.06-.94-.94-2.06-.94 2.06-2.06.94zm-11 1L8.5 8.5l.94-2.06 2.06-.94-2.06-.94L8.5 2.5l-.94 2.06-2.06.94zm10 10l.94 2.06.94-2.06 2.06-.94-2.06-.94-.94-2.06-.94 2.06-2.06.94z\"/><path d=\"M17.41 7.96l-1.37-1.37c-.4-.4-.92-.59-1.43-.59-.52 0-1.04.2-1.43.59L10.3 9.45l-7.72 7.72c-.78.78-.78 2.05 0 2.83L4 21.41c.39.39.9.59 1.41.59.51 0 1.02-.2 1.41-.59l7.78-7.78 2.81-2.81c.8-.78.8-2.07 0-2.86zM5.41 20L4 18.59l7.72-7.72 1.47 1.35L5.41 20z\"/>\n",
              "  </svg>\n",
              "      </button>\n",
              "      \n",
              "  <style>\n",
              "    .colab-df-container {\n",
              "      display:flex;\n",
              "      flex-wrap:wrap;\n",
              "      gap: 12px;\n",
              "    }\n",
              "\n",
              "    .colab-df-convert {\n",
              "      background-color: #E8F0FE;\n",
              "      border: none;\n",
              "      border-radius: 50%;\n",
              "      cursor: pointer;\n",
              "      display: none;\n",
              "      fill: #1967D2;\n",
              "      height: 32px;\n",
              "      padding: 0 0 0 0;\n",
              "      width: 32px;\n",
              "    }\n",
              "\n",
              "    .colab-df-convert:hover {\n",
              "      background-color: #E2EBFA;\n",
              "      box-shadow: 0px 1px 2px rgba(60, 64, 67, 0.3), 0px 1px 3px 1px rgba(60, 64, 67, 0.15);\n",
              "      fill: #174EA6;\n",
              "    }\n",
              "\n",
              "    [theme=dark] .colab-df-convert {\n",
              "      background-color: #3B4455;\n",
              "      fill: #D2E3FC;\n",
              "    }\n",
              "\n",
              "    [theme=dark] .colab-df-convert:hover {\n",
              "      background-color: #434B5C;\n",
              "      box-shadow: 0px 1px 3px 1px rgba(0, 0, 0, 0.15);\n",
              "      filter: drop-shadow(0px 1px 2px rgba(0, 0, 0, 0.3));\n",
              "      fill: #FFFFFF;\n",
              "    }\n",
              "  </style>\n",
              "\n",
              "      <script>\n",
              "        const buttonEl =\n",
              "          document.querySelector('#df-ba730bf7-07b6-42f9-937a-19e58bd99f21 button.colab-df-convert');\n",
              "        buttonEl.style.display =\n",
              "          google.colab.kernel.accessAllowed ? 'block' : 'none';\n",
              "\n",
              "        async function convertToInteractive(key) {\n",
              "          const element = document.querySelector('#df-ba730bf7-07b6-42f9-937a-19e58bd99f21');\n",
              "          const dataTable =\n",
              "            await google.colab.kernel.invokeFunction('convertToInteractive',\n",
              "                                                     [key], {});\n",
              "          if (!dataTable) return;\n",
              "\n",
              "          const docLinkHtml = 'Like what you see? Visit the ' +\n",
              "            '<a target=\"_blank\" href=https://colab.research.google.com/notebooks/data_table.ipynb>data table notebook</a>'\n",
              "            + ' to learn more about interactive tables.';\n",
              "          element.innerHTML = '';\n",
              "          dataTable['output_type'] = 'display_data';\n",
              "          await google.colab.output.renderOutput(dataTable, element);\n",
              "          const docLink = document.createElement('div');\n",
              "          docLink.innerHTML = docLinkHtml;\n",
              "          element.appendChild(docLink);\n",
              "        }\n",
              "      </script>\n",
              "    </div>\n",
              "  </div>\n",
              "  "
            ]
          },
          "metadata": {},
          "execution_count": 3
        }
      ],
      "source": [
        "df.describe()"
      ]
    },
    {
      "cell_type": "code",
      "execution_count": null,
      "metadata": {
        "colab": {
          "base_uri": "https://localhost:8080/"
        },
        "id": "F6L_X_XxscrY",
        "outputId": "ca458464-1f15-40ce-a269-d21d9cd9e5ca"
      },
      "outputs": [
        {
          "output_type": "execute_result",
          "data": {
            "text/plain": [
              "(50000, 11)"
            ]
          },
          "metadata": {},
          "execution_count": 4
        }
      ],
      "source": [
        "df.shape"
      ]
    },
    {
      "cell_type": "code",
      "execution_count": null,
      "metadata": {
        "id": "mfSrIWLVpNSS"
      },
      "outputs": [],
      "source": [
        "import pandas as pd\n",
        "import matplotlib.pyplot as plt\n",
        "import seaborn as sns\n",
        "\n",
        "# Visualize the relationship between Retweet Count and Follower Count\n",
        "sns.scatterplot(data=df, x='Retweet Count', y='Follower Count')\n",
        "plt.title('Relationship between Retweet Count and Follower Count')\n",
        "plt.show()\n",
        "\n",
        "# Count of Verified and Unverified Accounts\n",
        "sns.countplot(data=df, x='Verified')\n",
        "plt.title('Count of Verified and Unverified Accounts')\n",
        "plt.xlabel('Verified')\n",
        "plt.ylabel('Count')\n",
        "plt.show()\n"
      ]
    },
    {
      "cell_type": "code",
      "execution_count": null,
      "metadata": {
        "id": "dYBZnY4ppl-N"
      },
      "outputs": [],
      "source": [
        "from sklearn.preprocessing import LabelEncoder\n",
        "# Label encode the Verified column\n",
        "label_encoder = LabelEncoder()\n",
        "df['Verified'] = label_encoder.fit_transform(df['Verified'])"
      ]
    },
    {
      "cell_type": "code",
      "execution_count": null,
      "metadata": {
        "id": "ljyMynhBpxA-"
      },
      "outputs": [],
      "source": [
        "from sklearn.preprocessing import LabelEncoder\n",
        "# Handling missing values\n",
        "df['Hashtags'].fillna('Unknown', inplace=True)  # Replace missing locations with 'Unknown'"
      ]
    },
    {
      "cell_type": "code",
      "execution_count": null,
      "metadata": {
        "colab": {
          "base_uri": "https://localhost:8080/"
        },
        "id": "JnVisGws6aG7",
        "outputId": "c32d0170-0f82-488f-8acb-f127f819313f"
      },
      "outputs": [
        {
          "output_type": "stream",
          "name": "stdout",
          "text": [
            "datetime64[ns]\n"
          ]
        }
      ],
      "source": [
        "#changing datatype of column 'Created At'\n",
        "\n",
        "df['Created At']=pd.to_datetime(df['Created At'], format='%Y-%m-%d %H:%M')\n",
        "print(df['Created At'].dtypes)"
      ]
    },
    {
      "cell_type": "code",
      "execution_count": null,
      "metadata": {
        "colab": {
          "base_uri": "https://localhost:8080/",
          "height": 354
        },
        "id": "IvTkt5AAqpYE",
        "outputId": "2da3255f-3bb2-4154-b58f-a4daedc79561"
      },
      "outputs": [
        {
          "output_type": "execute_result",
          "data": {
            "text/plain": [
              "   User ID        Username                                              Tweet  \\\n",
              "0   132131           flong  Station activity person against natural majori...   \n",
              "1   289683  hinesstephanie  Authority research natural life material staff...   \n",
              "2   779715      roberttran  Manage whose quickly especially foot none to g...   \n",
              "3   696168          pmason  Just cover eight opportunity strong policy which.   \n",
              "4   704441          noah87                      Animal sign six data good or.   \n",
              "\n",
              "   Retweet Count  Mention Count  Follower Count  Verified  Bot Label  \\\n",
              "0             85              1            2353         0          1   \n",
              "1             55              5            9617         1          0   \n",
              "2              6              2            4363         1          0   \n",
              "3             54              5            2242         1          1   \n",
              "4             26              3            8438         0          1   \n",
              "\n",
              "       Location          Created At            Hashtags  \n",
              "0     Adkinston 2020-05-11 15:29:50             Unknown  \n",
              "1    Sanderston 2022-11-26 05:18:10           both live  \n",
              "2  Harrisonfurt 2022-08-08 03:16:54         phone ahead  \n",
              "3  Martinezberg 2021-08-14 22:27:05  ever quickly new I  \n",
              "4  Camachoville 2020-04-13 21:24:21     foreign mention  "
            ],
            "text/html": [
              "\n",
              "  <div id=\"df-7bed469f-64e8-4f8b-a340-51270c2c5c07\">\n",
              "    <div class=\"colab-df-container\">\n",
              "      <div>\n",
              "<style scoped>\n",
              "    .dataframe tbody tr th:only-of-type {\n",
              "        vertical-align: middle;\n",
              "    }\n",
              "\n",
              "    .dataframe tbody tr th {\n",
              "        vertical-align: top;\n",
              "    }\n",
              "\n",
              "    .dataframe thead th {\n",
              "        text-align: right;\n",
              "    }\n",
              "</style>\n",
              "<table border=\"1\" class=\"dataframe\">\n",
              "  <thead>\n",
              "    <tr style=\"text-align: right;\">\n",
              "      <th></th>\n",
              "      <th>User ID</th>\n",
              "      <th>Username</th>\n",
              "      <th>Tweet</th>\n",
              "      <th>Retweet Count</th>\n",
              "      <th>Mention Count</th>\n",
              "      <th>Follower Count</th>\n",
              "      <th>Verified</th>\n",
              "      <th>Bot Label</th>\n",
              "      <th>Location</th>\n",
              "      <th>Created At</th>\n",
              "      <th>Hashtags</th>\n",
              "    </tr>\n",
              "  </thead>\n",
              "  <tbody>\n",
              "    <tr>\n",
              "      <th>0</th>\n",
              "      <td>132131</td>\n",
              "      <td>flong</td>\n",
              "      <td>Station activity person against natural majori...</td>\n",
              "      <td>85</td>\n",
              "      <td>1</td>\n",
              "      <td>2353</td>\n",
              "      <td>0</td>\n",
              "      <td>1</td>\n",
              "      <td>Adkinston</td>\n",
              "      <td>2020-05-11 15:29:50</td>\n",
              "      <td>Unknown</td>\n",
              "    </tr>\n",
              "    <tr>\n",
              "      <th>1</th>\n",
              "      <td>289683</td>\n",
              "      <td>hinesstephanie</td>\n",
              "      <td>Authority research natural life material staff...</td>\n",
              "      <td>55</td>\n",
              "      <td>5</td>\n",
              "      <td>9617</td>\n",
              "      <td>1</td>\n",
              "      <td>0</td>\n",
              "      <td>Sanderston</td>\n",
              "      <td>2022-11-26 05:18:10</td>\n",
              "      <td>both live</td>\n",
              "    </tr>\n",
              "    <tr>\n",
              "      <th>2</th>\n",
              "      <td>779715</td>\n",
              "      <td>roberttran</td>\n",
              "      <td>Manage whose quickly especially foot none to g...</td>\n",
              "      <td>6</td>\n",
              "      <td>2</td>\n",
              "      <td>4363</td>\n",
              "      <td>1</td>\n",
              "      <td>0</td>\n",
              "      <td>Harrisonfurt</td>\n",
              "      <td>2022-08-08 03:16:54</td>\n",
              "      <td>phone ahead</td>\n",
              "    </tr>\n",
              "    <tr>\n",
              "      <th>3</th>\n",
              "      <td>696168</td>\n",
              "      <td>pmason</td>\n",
              "      <td>Just cover eight opportunity strong policy which.</td>\n",
              "      <td>54</td>\n",
              "      <td>5</td>\n",
              "      <td>2242</td>\n",
              "      <td>1</td>\n",
              "      <td>1</td>\n",
              "      <td>Martinezberg</td>\n",
              "      <td>2021-08-14 22:27:05</td>\n",
              "      <td>ever quickly new I</td>\n",
              "    </tr>\n",
              "    <tr>\n",
              "      <th>4</th>\n",
              "      <td>704441</td>\n",
              "      <td>noah87</td>\n",
              "      <td>Animal sign six data good or.</td>\n",
              "      <td>26</td>\n",
              "      <td>3</td>\n",
              "      <td>8438</td>\n",
              "      <td>0</td>\n",
              "      <td>1</td>\n",
              "      <td>Camachoville</td>\n",
              "      <td>2020-04-13 21:24:21</td>\n",
              "      <td>foreign mention</td>\n",
              "    </tr>\n",
              "  </tbody>\n",
              "</table>\n",
              "</div>\n",
              "      <button class=\"colab-df-convert\" onclick=\"convertToInteractive('df-7bed469f-64e8-4f8b-a340-51270c2c5c07')\"\n",
              "              title=\"Convert this dataframe to an interactive table.\"\n",
              "              style=\"display:none;\">\n",
              "        \n",
              "  <svg xmlns=\"http://www.w3.org/2000/svg\" height=\"24px\"viewBox=\"0 0 24 24\"\n",
              "       width=\"24px\">\n",
              "    <path d=\"M0 0h24v24H0V0z\" fill=\"none\"/>\n",
              "    <path d=\"M18.56 5.44l.94 2.06.94-2.06 2.06-.94-2.06-.94-.94-2.06-.94 2.06-2.06.94zm-11 1L8.5 8.5l.94-2.06 2.06-.94-2.06-.94L8.5 2.5l-.94 2.06-2.06.94zm10 10l.94 2.06.94-2.06 2.06-.94-2.06-.94-.94-2.06-.94 2.06-2.06.94z\"/><path d=\"M17.41 7.96l-1.37-1.37c-.4-.4-.92-.59-1.43-.59-.52 0-1.04.2-1.43.59L10.3 9.45l-7.72 7.72c-.78.78-.78 2.05 0 2.83L4 21.41c.39.39.9.59 1.41.59.51 0 1.02-.2 1.41-.59l7.78-7.78 2.81-2.81c.8-.78.8-2.07 0-2.86zM5.41 20L4 18.59l7.72-7.72 1.47 1.35L5.41 20z\"/>\n",
              "  </svg>\n",
              "      </button>\n",
              "      \n",
              "  <style>\n",
              "    .colab-df-container {\n",
              "      display:flex;\n",
              "      flex-wrap:wrap;\n",
              "      gap: 12px;\n",
              "    }\n",
              "\n",
              "    .colab-df-convert {\n",
              "      background-color: #E8F0FE;\n",
              "      border: none;\n",
              "      border-radius: 50%;\n",
              "      cursor: pointer;\n",
              "      display: none;\n",
              "      fill: #1967D2;\n",
              "      height: 32px;\n",
              "      padding: 0 0 0 0;\n",
              "      width: 32px;\n",
              "    }\n",
              "\n",
              "    .colab-df-convert:hover {\n",
              "      background-color: #E2EBFA;\n",
              "      box-shadow: 0px 1px 2px rgba(60, 64, 67, 0.3), 0px 1px 3px 1px rgba(60, 64, 67, 0.15);\n",
              "      fill: #174EA6;\n",
              "    }\n",
              "\n",
              "    [theme=dark] .colab-df-convert {\n",
              "      background-color: #3B4455;\n",
              "      fill: #D2E3FC;\n",
              "    }\n",
              "\n",
              "    [theme=dark] .colab-df-convert:hover {\n",
              "      background-color: #434B5C;\n",
              "      box-shadow: 0px 1px 3px 1px rgba(0, 0, 0, 0.15);\n",
              "      filter: drop-shadow(0px 1px 2px rgba(0, 0, 0, 0.3));\n",
              "      fill: #FFFFFF;\n",
              "    }\n",
              "  </style>\n",
              "\n",
              "      <script>\n",
              "        const buttonEl =\n",
              "          document.querySelector('#df-7bed469f-64e8-4f8b-a340-51270c2c5c07 button.colab-df-convert');\n",
              "        buttonEl.style.display =\n",
              "          google.colab.kernel.accessAllowed ? 'block' : 'none';\n",
              "\n",
              "        async function convertToInteractive(key) {\n",
              "          const element = document.querySelector('#df-7bed469f-64e8-4f8b-a340-51270c2c5c07');\n",
              "          const dataTable =\n",
              "            await google.colab.kernel.invokeFunction('convertToInteractive',\n",
              "                                                     [key], {});\n",
              "          if (!dataTable) return;\n",
              "\n",
              "          const docLinkHtml = 'Like what you see? Visit the ' +\n",
              "            '<a target=\"_blank\" href=https://colab.research.google.com/notebooks/data_table.ipynb>data table notebook</a>'\n",
              "            + ' to learn more about interactive tables.';\n",
              "          element.innerHTML = '';\n",
              "          dataTable['output_type'] = 'display_data';\n",
              "          await google.colab.output.renderOutput(dataTable, element);\n",
              "          const docLink = document.createElement('div');\n",
              "          docLink.innerHTML = docLinkHtml;\n",
              "          element.appendChild(docLink);\n",
              "        }\n",
              "      </script>\n",
              "    </div>\n",
              "  </div>\n",
              "  "
            ]
          },
          "metadata": {},
          "execution_count": 9
        }
      ],
      "source": [
        "df.head()"
      ]
    },
    {
      "cell_type": "code",
      "execution_count": null,
      "metadata": {
        "colab": {
          "base_uri": "https://localhost:8080/",
          "height": 178
        },
        "id": "AI1O0QOUrJuA",
        "outputId": "114508b3-7ff4-47cd-b255-58d2d4631a70"
      },
      "outputs": [
        {
          "output_type": "stream",
          "name": "stderr",
          "text": [
            "<ipython-input-10-4b040857b371>:16: SettingWithCopyWarning: \n",
            "A value is trying to be set on a copy of a slice from a DataFrame.\n",
            "Try using .loc[row_indexer,col_indexer] = value instead\n",
            "\n",
            "See the caveats in the documentation: https://pandas.pydata.org/pandas-docs/stable/user_guide/indexing.html#returning-a-view-versus-a-copy\n",
            "  additional_features['Created At'] = additional_features['Created At'].astype(int)  # Convert to Unix timestamp\n"
          ]
        },
        {
          "output_type": "execute_result",
          "data": {
            "text/plain": [
              "RandomForestClassifier()"
            ],
            "text/html": [
              "<style>#sk-container-id-1 {color: black;background-color: white;}#sk-container-id-1 pre{padding: 0;}#sk-container-id-1 div.sk-toggleable {background-color: white;}#sk-container-id-1 label.sk-toggleable__label {cursor: pointer;display: block;width: 100%;margin-bottom: 0;padding: 0.3em;box-sizing: border-box;text-align: center;}#sk-container-id-1 label.sk-toggleable__label-arrow:before {content: \"▸\";float: left;margin-right: 0.25em;color: #696969;}#sk-container-id-1 label.sk-toggleable__label-arrow:hover:before {color: black;}#sk-container-id-1 div.sk-estimator:hover label.sk-toggleable__label-arrow:before {color: black;}#sk-container-id-1 div.sk-toggleable__content {max-height: 0;max-width: 0;overflow: hidden;text-align: left;background-color: #f0f8ff;}#sk-container-id-1 div.sk-toggleable__content pre {margin: 0.2em;color: black;border-radius: 0.25em;background-color: #f0f8ff;}#sk-container-id-1 input.sk-toggleable__control:checked~div.sk-toggleable__content {max-height: 200px;max-width: 100%;overflow: auto;}#sk-container-id-1 input.sk-toggleable__control:checked~label.sk-toggleable__label-arrow:before {content: \"▾\";}#sk-container-id-1 div.sk-estimator input.sk-toggleable__control:checked~label.sk-toggleable__label {background-color: #d4ebff;}#sk-container-id-1 div.sk-label input.sk-toggleable__control:checked~label.sk-toggleable__label {background-color: #d4ebff;}#sk-container-id-1 input.sk-hidden--visually {border: 0;clip: rect(1px 1px 1px 1px);clip: rect(1px, 1px, 1px, 1px);height: 1px;margin: -1px;overflow: hidden;padding: 0;position: absolute;width: 1px;}#sk-container-id-1 div.sk-estimator {font-family: monospace;background-color: #f0f8ff;border: 1px dotted black;border-radius: 0.25em;box-sizing: border-box;margin-bottom: 0.5em;}#sk-container-id-1 div.sk-estimator:hover {background-color: #d4ebff;}#sk-container-id-1 div.sk-parallel-item::after {content: \"\";width: 100%;border-bottom: 1px solid gray;flex-grow: 1;}#sk-container-id-1 div.sk-label:hover label.sk-toggleable__label {background-color: #d4ebff;}#sk-container-id-1 div.sk-serial::before {content: \"\";position: absolute;border-left: 1px solid gray;box-sizing: border-box;top: 0;bottom: 0;left: 50%;z-index: 0;}#sk-container-id-1 div.sk-serial {display: flex;flex-direction: column;align-items: center;background-color: white;padding-right: 0.2em;padding-left: 0.2em;position: relative;}#sk-container-id-1 div.sk-item {position: relative;z-index: 1;}#sk-container-id-1 div.sk-parallel {display: flex;align-items: stretch;justify-content: center;background-color: white;position: relative;}#sk-container-id-1 div.sk-item::before, #sk-container-id-1 div.sk-parallel-item::before {content: \"\";position: absolute;border-left: 1px solid gray;box-sizing: border-box;top: 0;bottom: 0;left: 50%;z-index: -1;}#sk-container-id-1 div.sk-parallel-item {display: flex;flex-direction: column;z-index: 1;position: relative;background-color: white;}#sk-container-id-1 div.sk-parallel-item:first-child::after {align-self: flex-end;width: 50%;}#sk-container-id-1 div.sk-parallel-item:last-child::after {align-self: flex-start;width: 50%;}#sk-container-id-1 div.sk-parallel-item:only-child::after {width: 0;}#sk-container-id-1 div.sk-dashed-wrapped {border: 1px dashed gray;margin: 0 0.4em 0.5em 0.4em;box-sizing: border-box;padding-bottom: 0.4em;background-color: white;}#sk-container-id-1 div.sk-label label {font-family: monospace;font-weight: bold;display: inline-block;line-height: 1.2em;}#sk-container-id-1 div.sk-label-container {text-align: center;}#sk-container-id-1 div.sk-container {/* jupyter's `normalize.less` sets `[hidden] { display: none; }` but bootstrap.min.css set `[hidden] { display: none !important; }` so we also need the `!important` here to be able to override the default hidden behavior on the sphinx rendered scikit-learn.org. See: https://github.com/scikit-learn/scikit-learn/issues/21755 */display: inline-block !important;position: relative;}#sk-container-id-1 div.sk-text-repr-fallback {display: none;}</style><div id=\"sk-container-id-1\" class=\"sk-top-container\"><div class=\"sk-text-repr-fallback\"><pre>RandomForestClassifier()</pre><b>In a Jupyter environment, please rerun this cell to show the HTML representation or trust the notebook. <br />On GitHub, the HTML representation is unable to render, please try loading this page with nbviewer.org.</b></div><div class=\"sk-container\" hidden><div class=\"sk-item\"><div class=\"sk-estimator sk-toggleable\"><input class=\"sk-toggleable__control sk-hidden--visually\" id=\"sk-estimator-id-1\" type=\"checkbox\" checked><label for=\"sk-estimator-id-1\" class=\"sk-toggleable__label sk-toggleable__label-arrow\">RandomForestClassifier</label><div class=\"sk-toggleable__content\"><pre>RandomForestClassifier()</pre></div></div></div></div></div>"
            ]
          },
          "metadata": {},
          "execution_count": 10
        }
      ],
      "source": [
        "from scipy.sparse import hstack\n",
        "from sklearn.feature_extraction.text import TfidfVectorizer\n",
        "from sklearn.ensemble import RandomForestClassifier\n",
        "from sklearn.model_selection import train_test_split\n",
        "# Combine all text columns into a single Series\n",
        "text_data = df['Tweet'] + ' ' + df['Username'] + ' ' + df['Hashtags']+' '+df['Location']\n",
        "\n",
        "# Text vectorization using TF-IDF (sparse representation)\n",
        "vectorizer = TfidfVectorizer()\n",
        "text_sparse = vectorizer.fit_transform(text_data)\n",
        "\n",
        "# Combine text features with additional features\n",
        "\n",
        "additional_features = df[['Retweet Count', 'Verified','Mention Count','Follower Count','Created At']]\n",
        "\n",
        "additional_features['Created At'] = additional_features['Created At'].astype(int)  # Convert to Unix timestamp\n",
        "additional_features = additional_features.astype('float64')  # Convert to float64\n",
        "text_sparse = text_sparse.astype('float64')\n",
        "\n",
        "combined_sparse = hstack((text_sparse, additional_features))\n",
        "\n",
        "# Split the data into training and testing sets\n",
        "X_train, X_test, y_train, y_test = train_test_split(combined_sparse, df['Bot Label'], test_size=0.2, random_state=42)\n",
        "\n",
        "# Train the Random Forest classifier\n",
        "rf_classifier = RandomForestClassifier()\n",
        "rf_classifier.fit(X_train, y_train)\n"
      ]
    },
    {
      "cell_type": "code",
      "source": [
        "from sklearn.ensemble import BaggingClassifier\n",
        "from sklearn.model_selection import train_test_split\n",
        "from sklearn.metrics import accuracy_score\n",
        "\n",
        "# Create the bagging classifier\n",
        "bagging_model = BaggingClassifier(rf_classifier, n_estimators=10, random_state=42)\n",
        "\n",
        "# Train the bagging classifier\n",
        "bagging_model.fit(X_train, y_train)\n",
        "\n",
        "# Make predictions on the test set\n",
        "predictions = bagging_model.predict(X_test)\n",
        "\n",
        "# Calculate the accuracy of the bagging classifier\n",
        "accuracy = accuracy_score(y_test, predictions)\n",
        "print(\"Bagging accuracy:\", accuracy)\n"
      ],
      "metadata": {
        "colab": {
          "base_uri": "https://localhost:8080/"
        },
        "id": "GO7BSoYkThth",
        "outputId": "64ef6a36-0547-4373-9620-86a1b5c67e3b"
      },
      "execution_count": null,
      "outputs": [
        {
          "output_type": "stream",
          "name": "stdout",
          "text": [
            "Bagging accuracy: 0.4945\n"
          ]
        }
      ]
    },
    {
      "cell_type": "code",
      "execution_count": null,
      "metadata": {
        "id": "q4GVR5-DJg8P"
      },
      "outputs": [],
      "source": [
        "df.head()"
      ]
    },
    {
      "cell_type": "code",
      "execution_count": null,
      "metadata": {
        "colab": {
          "base_uri": "https://localhost:8080/"
        },
        "id": "IHmGo5z1gqa2",
        "outputId": "47885322-4ae1-4d01-f731-606aa7e83e56"
      },
      "outputs": [
        {
          "output_type": "stream",
          "name": "stdout",
          "text": [
            "Accuracy: 0.4945\n",
            "Classification Report:\n",
            "              precision    recall  f1-score   support\n",
            "\n",
            "           0       0.49      0.54      0.51      4968\n",
            "           1       0.50      0.45      0.48      5032\n",
            "\n",
            "    accuracy                           0.49     10000\n",
            "   macro avg       0.49      0.49      0.49     10000\n",
            "weighted avg       0.49      0.49      0.49     10000\n",
            "\n"
          ]
        }
      ],
      "source": [
        "# Make predictions on the testing data\n",
        "y_pred = rf_classifier.predict(X_test)\n",
        "\n",
        "# Evaluate the model\n",
        "from sklearn.metrics import accuracy_score, classification_report\n",
        "\n",
        "accuracy = accuracy_score(y_test, y_pred)\n",
        "report = classification_report(y_test, y_pred)\n",
        "\n",
        "print(f\"Accuracy: {accuracy}\")\n",
        "print(f\"Classification Report:\\n{report}\")\n"
      ]
    },
    {
      "cell_type": "code",
      "execution_count": null,
      "metadata": {
        "colab": {
          "base_uri": "https://localhost:8080/"
        },
        "id": "bTUyX69YhiQ5",
        "outputId": "715d4979-7a2c-4646-aa71-45a47d3a5e4c"
      },
      "outputs": [
        {
          "name": "stdout",
          "output_type": "stream",
          "text": [
            "Data point 1: Bot\n"
          ]
        }
      ],
      "source": [
        "# # Example: Predict labels for new data\n",
        "\n",
        "# # New data (example)\n",
        "# new_data = pd.DataFrame({\n",
        "#     'Tweet': ['This is a new tweet'],\n",
        "#     'Username': ['new_user'],\n",
        "#     'Hashtags': ['#new'],\n",
        "#     'Retweet Count': [5000],\n",
        "#     'Verified': [1]\n",
        "# })\n",
        "\n",
        "# # Concatenate text features\n",
        "# new_text_data = new_data['Tweet'] + ' ' + new_data['Username'] + ' ' + new_data['Hashtags']\n",
        "\n",
        "# # Perform feature vectorization on new text features\n",
        "# new_text_sparse = vectorizer.transform(new_text_data)\n",
        "\n",
        "# # Combine new text features with additional features\n",
        "# new_additional_features = new_data[['Retweet Count', 'Verified']]\n",
        "# new_combined_sparse = hstack((new_text_sparse, new_additional_features))\n",
        "\n",
        "# # Predict labels for the new data\n",
        "# new_predictions = rf_classifier.predict(new_combined_sparse)\n",
        "\n",
        "# # Print the predictions\n",
        "# for i, prediction in enumerate(new_predictions):\n",
        "#     if prediction == 1:\n",
        "#         print(f\"Data point {i+1}: Bot\")\n",
        "#     else:\n",
        "#         print(f\"Data point {i+1}: Not Bot\")\n"
      ]
    },
    {
      "cell_type": "code",
      "execution_count": null,
      "metadata": {
        "id": "F1QYyn5G96XW"
      },
      "outputs": [],
      "source": [
        "# pip install flask\n"
      ]
    },
    {
      "cell_type": "code",
      "execution_count": null,
      "metadata": {
        "colab": {
          "background_save": true
        },
        "id": "zNQcIaT595hs"
      },
      "outputs": [],
      "source": [
        "# from flask import Flask, jsonify, request\n",
        "# from scipy.sparse import hstack\n",
        "# from sklearn.feature_extraction.text import TfidfVectorizer\n",
        "# from sklearn.ensemble import RandomForestClassifier\n",
        "# import pandas as pd\n",
        "\n",
        "# # Load the trained model and vectorizer\n",
        "# rf_classifier = RandomForestClassifier()\n",
        "# vectorizer = TfidfVectorizer()\n",
        "\n",
        "# # Load the preprocessed data (combined_sparse) if needed\n",
        "\n",
        "# # Create the Flask app\n",
        "# app = Flask(__name__)\n",
        "\n",
        "# # Define a route for the prediction API\n",
        "# @app.route('/predict', methods=['POST'])\n",
        "# def predict():\n",
        "#     # Get the JSON data from the request\n",
        "#     data = request.get_json()\n",
        "\n",
        "#     # Preprocess the data\n",
        "#     text_data = data['Tweet'] + ' ' + data['Username'] + ' ' + data['Hashtags'] + ' ' + data['Location']\n",
        "#     text_sparse = vectorizer.transform([text_data])\n",
        "\n",
        "#     # Combine text features with additional features\n",
        "#     additional_features = pd.DataFrame({\n",
        "#         'Retweet Count': [data['Retweet Count']],\n",
        "#         'Verified': [data['Verified']],\n",
        "#         'Mention Count': [data['Mention Count']],\n",
        "#         'Follower Count': [data['Follower Count']],\n",
        "#         'Created At': [data['Created At']]\n",
        "#     })\n",
        "\n",
        "#     additional_features['Created At'] = additional_features['Created At'].astype(int)  # Convert to Unix timestamp\n",
        "#     additional_features = additional_features.astype('float64')  # Convert to float64\n",
        "#     text_sparse = text_sparse.astype('float64')\n",
        "\n",
        "#     combined_sparse = hstack((text_sparse, additional_features))\n",
        "\n",
        "#     # Predict the label\n",
        "#     prediction = rf_classifier.predict(combined_sparse)[0]\n",
        "\n",
        "#     # Return the prediction as JSON response\n",
        "#     response = {'prediction': int(prediction)}\n",
        "#     return jsonify(response)\n",
        "\n",
        "# # Run the Flask app\n",
        "# if __name__ == '__main__':\n",
        "#     app.run(debug=True)\n"
      ]
    }
  ],
  "metadata": {
    "colab": {
      "provenance": [],
      "mount_file_id": "1OHz3lCcC2_5IpXipYjY5ALYzlFcR8HCI",
      "authorship_tag": "ABX9TyPPSwtNSdPGUopw/kcPeoG4",
      "include_colab_link": true
    },
    "kernelspec": {
      "display_name": "Python 3",
      "name": "python3"
    },
    "language_info": {
      "name": "python"
    }
  },
  "nbformat": 4,
  "nbformat_minor": 0
}