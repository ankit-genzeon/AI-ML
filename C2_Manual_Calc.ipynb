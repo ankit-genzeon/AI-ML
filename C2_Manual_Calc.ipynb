{
  "nbformat": 4,
  "nbformat_minor": 0,
  "metadata": {
    "colab": {
      "provenance": [],
      "mount_file_id": "15qaBQ_juwKM3G0DM2HzY23wQqmnnXWoZ",
      "authorship_tag": "ABX9TyN+ehd1mhR2IeThrXXZp975",
      "include_colab_link": true
    },
    "kernelspec": {
      "name": "python3",
      "display_name": "Python 3"
    },
    "language_info": {
      "name": "python"
    }
  },
  "cells": [
    {
      "cell_type": "markdown",
      "metadata": {
        "id": "view-in-github",
        "colab_type": "text"
      },
      "source": [
        "<a href=\"https://colab.research.google.com/github/ankit-genzeon/AI-ML-Bootcamp-Genzeon-2023/blob/master/C2_Manual_Calc.ipynb\" target=\"_parent\"><img src=\"https://colab.research.google.com/assets/colab-badge.svg\" alt=\"Open In Colab\"/></a>"
      ]
    },
    {
      "cell_type": "code",
      "execution_count": null,
      "metadata": {
        "id": "rwA_HCGlgnUT"
      },
      "outputs": [],
      "source": [
        "dataset = '/content/drive/MyDrive/Colab Notebooks/Employee_StudyHours.csv'\n",
        "import pandas as pd\n",
        "df = pd.read_csv(dataset) #dataframe - terminology  2d"
      ]
    },
    {
      "cell_type": "code",
      "source": [
        "import matplotlib.pyplot as plt\n",
        "\n",
        "plt.scatter(df.Hours , df['Scores'] , marker='*')\n",
        "plt.xlabel(\"Hours ------>\")\n",
        "plt.ylabel(\"Estimated Score ------>\")\n",
        "plt.title(\"Employee Score Probability\")\n",
        "plt.show()"
      ],
      "metadata": {
        "id": "XVGB7vYuhDEh"
      },
      "execution_count": null,
      "outputs": []
    },
    {
      "cell_type": "code",
      "source": [
        "#seaborn Heatmap\n",
        "import seaborn as sns\n",
        "\n",
        "def get_heatmap(df):\n",
        "  plt.figure(figsize=(4,2))\n",
        "  sns.heatmap(df.isnull(),yticklabels = False, cbar=False, cmap='viridis')\n",
        "  return plt.show()\n",
        "\n",
        "get_heatmap(df)"
      ],
      "metadata": {
        "colab": {
          "base_uri": "https://localhost:8080/",
          "height": 214
        },
        "id": "EExYOkJyhGZe",
        "outputId": "9d69815d-ea9e-41db-d4fb-20ec06d95639"
      },
      "execution_count": null,
      "outputs": [
        {
          "output_type": "display_data",
          "data": {
            "text/plain": [
              "<Figure size 400x200 with 1 Axes>"
            ],
            "image/png": "[encoded data removed]"
          },
          "metadata": {}
        }
      ]
    },
    {
      "cell_type": "code",
      "source": [
        "#treating missing values\n",
        "'''\n",
        "df.dropna()'''\n",
        "median_v=df.Hours.median()\n",
        "mean_v=df.Scores.mean()\n",
        "print(median_v)\n",
        "print(mean_v)"
      ],
      "metadata": {
        "colab": {
          "base_uri": "https://localhost:8080/"
        },
        "id": "V3MqMopVhLHo",
        "outputId": "43b09bd9-269e-4d62-afad-ff75a93ba681"
      },
      "execution_count": null,
      "outputs": [
        {
          "output_type": "stream",
          "name": "stdout",
          "text": [
            "4.65\n",
            "51.46666666666667\n"
          ]
        }
      ]
    },
    {
      "cell_type": "code",
      "source": [
        "import math\n",
        "df['Hours'] = df.Hours.fillna(median_v)\n",
        "df['Scores'] = df.Scores.fillna(mean_v)\n",
        "\n",
        "df"
      ],
      "metadata": {
        "id": "MtkKGpHGhO_9"
      },
      "execution_count": null,
      "outputs": []
    },
    {
      "cell_type": "code",
      "source": [
        "#method 1\n",
        "X = df.iloc[:,:-1].values #This uses the iloc indexer to select all rows (:) and all columns except the last column (:-1).\n",
        "Y = df.iloc[:,-1:].values #Here, df.iloc[:,-1:] selects all rows (:) and the last column (-1:), which is equivalent to selecting the last column only.\n",
        "X"
      ],
      "metadata": {
        "id": "WaixvOIuhWXA"
      },
      "execution_count": null,
      "outputs": []
    },
    {
      "cell_type": "code",
      "source": [
        "#method 2\n",
        "import numpy as np\n",
        "X=np.array(df[['Hours']])\n",
        "Y= np.array(df[['Scores']])\n",
        "X"
      ],
      "metadata": {
        "id": "Q_ptBiqGjoga"
      },
      "execution_count": null,
      "outputs": []
    },
    {
      "cell_type": "code",
      "source": [
        "#Step 05 Splitting Data - Train Set & Test Set\n",
        "\n",
        "from sklearn.model_selection import train_test_split\n",
        "X_train,X_test,Y_train,Y_test = train_test_split(X,Y,test_size=0.2)\n",
        "\n",
        "X_train\n"
      ],
      "metadata": {
        "id": "EWSSMwuLhbr9"
      },
      "execution_count": null,
      "outputs": []
    },
    {
      "cell_type": "code",
      "source": [
        "import sympy as sym\n",
        "\n",
        "mi = 1  # representing slope\n",
        "ci = -1  # intercept\n",
        "n = 0.01  # learning rate\n",
        "epochs = 100  # number of iterations to train the model\n",
        "\n",
        "# Initialize MSE list\n",
        "MSE = []\n",
        "\n",
        "# Iterate over epochs\n",
        "for iter in range(1, epochs + 1):\n",
        "    print(f'Iteration: {iter}')\n",
        "    print(\"++++++++++++++++++++++++++++++++++++++++++++++\")\n",
        "\n",
        "    # Define symbols and equations\n",
        "    x = sym.Symbol('x')\n",
        "    y = sym.Symbol('y')\n",
        "    m = sym.Symbol('m')\n",
        "    c = sym.Symbol('c')\n",
        "    E = (0.5) * (y - m * x - c) ** 2  # MSE equation\n",
        "\n",
        "    total_error = 0\n",
        "\n",
        "    # Iterate over samples\n",
        "    for sample in range(len(X_train)):\n",
        "        xa = X_train[sample, 0]  # Accessing the sample from the NumPy array\n",
        "        ya = Y_train[sample, 0]\n",
        "        print(f'Sample: {sample + 1}, x = {xa}, y = {ya}')\n",
        "\n",
        "        # Compute gradients\n",
        "        deltaE_m = sym.diff(E, m)\n",
        "        deltaE_c = sym.diff(E, c)\n",
        "\n",
        "        # Substitute the current values in the gradients\n",
        "        deltaE_m = deltaE_m.subs([(m, mi), (c, ci), (x, xa), (y, ya)])\n",
        "        deltaE_c = deltaE_c.subs([(m, mi), (c, ci), (x, xa), (y, ya)])\n",
        "\n",
        "        print(f'Gradient obtained wrt deltaE_m: {deltaE_m}')\n",
        "        print(f'Gradient obtained wrt deltaE_c: {deltaE_c}')\n",
        "\n",
        "        # Calculate step length\n",
        "        del_m = -n * deltaE_m\n",
        "        del_c = -n * deltaE_c\n",
        "\n",
        "        # Update model parameters\n",
        "        mi = mi + del_m\n",
        "        ci = ci + del_c\n",
        "\n",
        "        # Calculate error for the current sample\n",
        "        E = E.subs([(m, mi), (c, ci), (x, xa), (y, ya)])\n",
        "        total_error += E\n",
        "\n",
        "    # Calculate mean squared error (MSE) for the epoch\n",
        "    mse = total_error / len(X_train)\n",
        "    MSE.append(mse)\n",
        "    print('error')\n",
        "    print(f'm: {mi}, c: {ci}')\n",
        "    print(\"--------------------------------------------\")\n",
        "\n",
        "# Print optimal parameters\n",
        "print(\"Optimal parameters:\")\n",
        "print(f'm -> {mi}')\n",
        "print(f'c -> {ci}')\n",
        "\n"
      ],
      "metadata": {
        "id": "ZC4hen0_ijpK"
      },
      "execution_count": null,
      "outputs": []
    },
    {
      "cell_type": "code",
      "source": [
        "MSE"
      ],
      "metadata": {
        "id": "3YqSTR-tlq57"
      },
      "execution_count": null,
      "outputs": []
    },
    {
      "cell_type": "code",
      "source": [
        "import matplotlib.pyplot as plt\n",
        "plt.plot(MSE, label = 'MSE', color='red')\n",
        "plt.xlabel(\"Epochs -->\")\n",
        "plt.ylabel(\"MSE Values-->\")\n",
        "plt.legend()\n",
        "\n",
        "plt.title(\"Visualisinf MSE vs Epochs\")\n",
        "plt.show"
      ],
      "metadata": {
        "colab": {
          "base_uri": "https://localhost:8080/",
          "height": 489
        },
        "id": "7OC2QS49m5ja",
        "outputId": "37d049c3-d83e-4e9c-a994-fa2a8da3d657"
      },
      "execution_count": null,
      "outputs": [
        {
          "output_type": "execute_result",
          "data": {
            "text/plain": [
              "<function matplotlib.pyplot.show(close=None, block=None)>"
            ]
          },
          "metadata": {},
          "execution_count": 13
        },
        {
          "output_type": "display_data",
          "data": {
            "text/plain": [
              "<Figure size 640x480 with 1 Axes>"
            ],
            "image/png": "[encoded data removed]"
          },
          "metadata": {}
        }
      ]
    },
    {
      "cell_type": "code",
      "source": [
        "# Step 11: Make predictions on the test set\n",
        "y_pred_manual = mi * X_test + ci\n",
        "\n",
        "# Step 12: Calculate performance metrics\n",
        "from sklearn.metrics import mean_squared_error\n",
        "\n",
        "mse_manual = mean_squared_error(Y_test, y_pred_manual)\n",
        "r2_manual = 1 - (mse_manual / np.var(Y_test))\n",
        "\n",
        "print(\"Performance Evaluation (Manual)\")\n",
        "print(\"Mean Squared Error (MSE):\", mse_manual)\n",
        "print(\"R-squared (R2) Score:\", r2_manual)\n",
        "\n",
        "# Step 13: Visualize the results\n",
        "plt.scatter(X_test, Y_test, color='blue', label='Actual')\n",
        "plt.plot(X_test, y_pred_manual, color='red', label='Manual Regression')\n",
        "plt.xlabel('Hours')\n",
        "plt.ylabel('Scores')\n",
        "plt.title('Actual vs Manual Regression')\n",
        "plt.legend()\n",
        "plt.show()\n",
        "\n",
        "# Step 14: Predict for custom hours\n",
        "custom_hours = [[6]]  # Replace with your desired custom hours\n",
        "custom_pred_manual = np.array(custom_hours) * mi + ci\n",
        "\n",
        "print(\"Predicted Score (Manual):\", custom_pred_manual[0])\n",
        "\n"
      ],
      "metadata": {
        "colab": {
          "base_uri": "https://localhost:8080/",
          "height": 541
        },
        "id": "fVEbLVJYobU6",
        "outputId": "962ce870-b20c-4a7a-a8c1-0620949991d5"
      },
      "execution_count": null,
      "outputs": [
        {
          "output_type": "stream",
          "name": "stdout",
          "text": [
            "Performance Evaluation (Manual)\n",
            "Mean Squared Error (MSE): 202.05371001595404\n",
            "R-squared (R2) Score: 0.5593342280748609\n"
          ]
        },
        {
          "output_type": "display_data",
          "data": {
            "text/plain": [
              "<Figure size 640x480 with 1 Axes>"
            ],
            "image/png": "[encoded data removed]"
          },
          "metadata": {}
        },
        {
          "output_type": "stream",
          "name": "stdout",
          "text": [
            "Predicted Score (Manual): [66.0852764573598]\n"
          ]
        }
      ]
    }
  ]
}